{
  "cells": [
    {
      "cell_type": "markdown",
      "metadata": {
        "id": "view-in-github",
        "colab_type": "text"
      },
      "source": [
        "<a href=\"https://colab.research.google.com/github/manjugovindarajan/Women_in_DS_Py/blob/main/Copy_of_WiDSAI_Python_Workshop_Solutions.ipynb\" target=\"_parent\"><img src=\"https://colab.research.google.com/assets/colab-badge.svg\" alt=\"Open In Colab\"/></a>"
      ]
    },
    {
      "cell_type": "code",
      "execution_count": null,
      "id": "18ca3925-184b-4406-b26d-c2d814d7151f",
      "metadata": {
        "id": "18ca3925-184b-4406-b26d-c2d814d7151f"
      },
      "outputs": [],
      "source": [
        "%load_ext lab_black"
      ]
    },
    {
      "cell_type": "markdown",
      "id": "1acfbd48-9276-423a-8b11-589a99cf0b74",
      "metadata": {
        "id": "1acfbd48-9276-423a-8b11-589a99cf0b74"
      },
      "source": [
        "Quickfile is an online tax-prep platform. The company operates in the B2B and B2C space. This project will focus on the B2B client, i.e. will examine Tax Professionals that purchase our product in order to file their clients' taxes. As we know, businesses often break the year up in cycles. This is done so we can measure things. Here, we seek to measure churn. The tax cycle is a bit different in that the tax year ends on April 30th and begins on May 1st.\n",
        "**Normally, we'd be pulling data from a database. To make this data accessible, we've provided it in CSV files."
      ]
    },
    {
      "cell_type": "markdown",
      "id": "bda33656-25d9-4594-af90-f0135330c769",
      "metadata": {
        "id": "bda33656-25d9-4594-af90-f0135330c769"
      },
      "source": [
        "![image.png](attachment:603b50b9-6513-4440-8eba-4e41619bccdc.png)"
      ]
    },
    {
      "cell_type": "code",
      "execution_count": null,
      "id": "c1b1e31c-7ecd-42a7-8169-b9089b866b08",
      "metadata": {
        "id": "c1b1e31c-7ecd-42a7-8169-b9089b866b08"
      },
      "outputs": [],
      "source": [
        "# Load the pandas and numpy packages\n",
        "import pandas as pd\n",
        "import numpy as np"
      ]
    },
    {
      "cell_type": "markdown",
      "id": "70b6e849-6026-4102-b1a5-2d022237a846",
      "metadata": {
        "id": "70b6e849-6026-4102-b1a5-2d022237a846"
      },
      "source": [
        "## 2. Identify Tax Years in which a Customer is Active\n",
        "Our problem focuses in tax years 2021 and 2022.<br>\n",
        "A Pro customer considered active in tax year 2021 purchases our tax filing product between May 1st, 2021 and April 30th of 2022.<br>\n",
        "A Pro customer considered active in tax year 2022 purchases our tax filing product between May 1st, 2022 and April 30th of 2023.<br>\n",
        "\n",
        "In order to understand retention, we need to understand in which tax years a customer is active. As the data exists in our database, this is not immediately clear. Apply conditional logic that identifies in which tax year a customer sale falls."
      ]
    },
    {
      "cell_type": "code",
      "execution_count": null,
      "id": "bb4caa45-28a8-4ef5-a1bf-3caa4cbc6b26",
      "metadata": {
        "id": "bb4caa45-28a8-4ef5-a1bf-3caa4cbc6b26",
        "outputId": "33be9e21-18b2-428c-e465-8e997f832a11"
      },
      "outputs": [
        {
          "data": {
            "text/html": [
              "<div>\n",
              "<style scoped>\n",
              "    .dataframe tbody tr th:only-of-type {\n",
              "        vertical-align: middle;\n",
              "    }\n",
              "\n",
              "    .dataframe tbody tr th {\n",
              "        vertical-align: top;\n",
              "    }\n",
              "\n",
              "    .dataframe thead th {\n",
              "        text-align: right;\n",
              "    }\n",
              "</style>\n",
              "<table border=\"1\" class=\"dataframe\">\n",
              "  <thead>\n",
              "    <tr style=\"text-align: right;\">\n",
              "      <th></th>\n",
              "      <th>accountID</th>\n",
              "      <th>salesDate</th>\n",
              "    </tr>\n",
              "  </thead>\n",
              "  <tbody>\n",
              "    <tr>\n",
              "      <th>0</th>\n",
              "      <td>44451402</td>\n",
              "      <td>2022-04-17 16:47:17</td>\n",
              "    </tr>\n",
              "    <tr>\n",
              "      <th>1</th>\n",
              "      <td>30492817</td>\n",
              "      <td>2022-04-06 05:50:41</td>\n",
              "    </tr>\n",
              "    <tr>\n",
              "      <th>2</th>\n",
              "      <td>16691344</td>\n",
              "      <td>2022-04-01 07:07:08</td>\n",
              "    </tr>\n",
              "    <tr>\n",
              "      <th>3</th>\n",
              "      <td>19433773</td>\n",
              "      <td>2022-04-06 03:35:31</td>\n",
              "    </tr>\n",
              "    <tr>\n",
              "      <th>4</th>\n",
              "      <td>25169734</td>\n",
              "      <td>2022-04-07 22:52:07</td>\n",
              "    </tr>\n",
              "  </tbody>\n",
              "</table>\n",
              "</div>"
            ],
            "text/plain": [
              "   accountID            salesDate\n",
              "0   44451402  2022-04-17 16:47:17\n",
              "1   30492817  2022-04-06 05:50:41\n",
              "2   16691344  2022-04-01 07:07:08\n",
              "3   19433773  2022-04-06 03:35:31\n",
              "4   25169734  2022-04-07 22:52:07"
            ]
          },
          "execution_count": 3,
          "metadata": {},
          "output_type": "execute_result"
        }
      ],
      "source": [
        "# Pull relevant data from our CUSTOMER SALES DATE table (Load the data)\n",
        "sales_date_df = pd.read_csv(\"CustomerSalesDate.csv\")\n",
        "# Display the first five rows\n",
        "sales_date_df.head()"
      ]
    },
    {
      "cell_type": "code",
      "execution_count": null,
      "id": "fa2dacbd-3c8c-4528-a549-ee602064ad3f",
      "metadata": {
        "id": "fa2dacbd-3c8c-4528-a549-ee602064ad3f",
        "outputId": "631aadfd-8060-43a8-9392-fc5ec354d03d"
      },
      "outputs": [
        {
          "name": "stdout",
          "output_type": "stream",
          "text": [
            "0       2022-04-17 16:47:17\n",
            "1       2022-04-06 05:50:41\n",
            "2       2022-04-01 07:07:08\n",
            "3       2022-04-06 03:35:31\n",
            "4       2022-04-07 22:52:07\n",
            "               ...         \n",
            "9168    2022-06-18 12:31:04\n",
            "9169    2021-07-01 17:46:43\n",
            "9170    2022-08-23 03:55:26\n",
            "9171    2022-08-23 19:11:29\n",
            "9172    2021-07-02 19:23:14\n",
            "Name: salesDate, Length: 9173, dtype: object\n"
          ]
        }
      ],
      "source": [
        "# check data types! Has the SalesDate column been read in as a date? To check, display the salesDate column\n",
        "print(sales_date_df[\"salesDate\"])\n",
        "# convert to a datetime\n",
        "sales_date_df[\"salesDate\"] = pd.to_datetime(sales_date_df[\"salesDate\"])"
      ]
    },
    {
      "cell_type": "code",
      "execution_count": null,
      "id": "ca10d567-192f-45fe-b5f3-53578740cda7",
      "metadata": {
        "id": "ca10d567-192f-45fe-b5f3-53578740cda7"
      },
      "outputs": [],
      "source": [
        "def get_tax_year(row):\n",
        "    \"\"\"\n",
        "    Assigns a tax year (TY) to a customer based on their purchase date.\n",
        "    Args:\n",
        "    row: A row from a pandas DataFrame containing a 'date' column.\n",
        "    Returns:\n",
        "    A string representing the tax year (e.g., 'TY20', 'TY21', 'TY22').\n",
        "    \"\"\"\n",
        "    # Define start and end dates for each tax year\n",
        "    ty21_start = pd.to_datetime(\"2021-05-01\")\n",
        "    ty21_end = pd.to_datetime(\"2022-04-30\")\n",
        "    ty22_start = pd.to_datetime(\"2022-05-01\")\n",
        "    ty22_end = pd.to_datetime(\"2023-04-30\")\n",
        "\n",
        "    # Conditional logic to assign tax year\n",
        "    if ty21_start <= row <= ty21_end:\n",
        "        return \"TY21\"\n",
        "    elif ty22_start <= row <= ty22_end:\n",
        "        return \"TY22\"\n",
        "    else:\n",
        "        return \"NA\"  # Or any other value for non-qualifying dates"
      ]
    },
    {
      "cell_type": "code",
      "execution_count": null,
      "id": "c1327133-9681-4dec-af33-64756ad44132",
      "metadata": {
        "id": "c1327133-9681-4dec-af33-64756ad44132"
      },
      "outputs": [],
      "source": [
        "# APPLY the function to the 'salesDate' column\n",
        "transactionTaxYear = sales_date_df[\"salesDate\"].apply(get_tax_year)"
      ]
    },
    {
      "cell_type": "code",
      "execution_count": null,
      "id": "cb33537d-1d3d-4264-8284-b5549c32fcf7",
      "metadata": {
        "id": "cb33537d-1d3d-4264-8284-b5549c32fcf7"
      },
      "outputs": [],
      "source": [
        "# Concatenate the 'transactionTaxYear' pandas Series with the 'accountID' pandas Series\n",
        "transaction_tax_year_df = pd.concat(\n",
        "    [sales_date_df[\"accountID\"], transactionTaxYear], axis=1\n",
        ")"
      ]
    },
    {
      "cell_type": "markdown",
      "id": "c8d8b32f-1804-42c4-8d83-3fc308c4bfe8",
      "metadata": {
        "id": "c8d8b32f-1804-42c4-8d83-3fc308c4bfe8"
      },
      "source": [
        "## 3. The tricky part\n",
        "Once we have identified the tax year in which the purchase took place, we need to designate whether a customer has churned or not. A customer that has churned is active during a specified tax year and then not active the next year. For example, a churned customer would be active in TY21 and not active (i.e. have no history of purchase) in TY22."
      ]
    },
    {
      "cell_type": "code",
      "execution_count": null,
      "id": "a6ec773d-104d-4ea1-8731-b182635564d4",
      "metadata": {
        "id": "a6ec773d-104d-4ea1-8731-b182635564d4",
        "outputId": "6c9f8453-ffb7-4162-ebed-a334e142640c"
      },
      "outputs": [
        {
          "data": {
            "text/html": [
              "<div>\n",
              "<style scoped>\n",
              "    .dataframe tbody tr th:only-of-type {\n",
              "        vertical-align: middle;\n",
              "    }\n",
              "\n",
              "    .dataframe tbody tr th {\n",
              "        vertical-align: top;\n",
              "    }\n",
              "\n",
              "    .dataframe thead th {\n",
              "        text-align: right;\n",
              "    }\n",
              "</style>\n",
              "<table border=\"1\" class=\"dataframe\">\n",
              "  <thead>\n",
              "    <tr style=\"text-align: right;\">\n",
              "      <th></th>\n",
              "      <th>salesDate</th>\n",
              "    </tr>\n",
              "    <tr>\n",
              "      <th>accountID</th>\n",
              "      <th></th>\n",
              "    </tr>\n",
              "  </thead>\n",
              "  <tbody>\n",
              "    <tr>\n",
              "      <th>19524</th>\n",
              "      <td>[TY21, TY22]</td>\n",
              "    </tr>\n",
              "    <tr>\n",
              "      <th>22182</th>\n",
              "      <td>[TY21]</td>\n",
              "    </tr>\n",
              "    <tr>\n",
              "      <th>22210</th>\n",
              "      <td>[TY21, TY22]</td>\n",
              "    </tr>\n",
              "    <tr>\n",
              "      <th>24657</th>\n",
              "      <td>[TY22, TY21]</td>\n",
              "    </tr>\n",
              "    <tr>\n",
              "      <th>25127</th>\n",
              "      <td>[TY22, TY21]</td>\n",
              "    </tr>\n",
              "    <tr>\n",
              "      <th>...</th>\n",
              "      <td>...</td>\n",
              "    </tr>\n",
              "    <tr>\n",
              "      <th>99851556</th>\n",
              "      <td>[TY21, TY22]</td>\n",
              "    </tr>\n",
              "    <tr>\n",
              "      <th>99961922</th>\n",
              "      <td>[TY22, TY21]</td>\n",
              "    </tr>\n",
              "    <tr>\n",
              "      <th>99976143</th>\n",
              "      <td>[TY21]</td>\n",
              "    </tr>\n",
              "    <tr>\n",
              "      <th>99978013</th>\n",
              "      <td>[TY22, TY21]</td>\n",
              "    </tr>\n",
              "    <tr>\n",
              "      <th>99991074</th>\n",
              "      <td>[TY22, TY21]</td>\n",
              "    </tr>\n",
              "  </tbody>\n",
              "</table>\n",
              "<p>5354 rows × 1 columns</p>\n",
              "</div>"
            ],
            "text/plain": [
              "              salesDate\n",
              "accountID              \n",
              "19524      [TY21, TY22]\n",
              "22182            [TY21]\n",
              "22210      [TY21, TY22]\n",
              "24657      [TY22, TY21]\n",
              "25127      [TY22, TY21]\n",
              "...                 ...\n",
              "99851556   [TY21, TY22]\n",
              "99961922   [TY22, TY21]\n",
              "99976143         [TY21]\n",
              "99978013   [TY22, TY21]\n",
              "99991074   [TY22, TY21]\n",
              "\n",
              "[5354 rows x 1 columns]"
            ]
          },
          "execution_count": 8,
          "metadata": {},
          "output_type": "execute_result"
        }
      ],
      "source": [
        "# Group the DataFrame by accountID and aggregate by list\n",
        "grouped_df = transaction_tax_year_df.groupby(\"accountID\").agg(list)\n",
        "# Display the grouped dataframe\n",
        "grouped_df"
      ]
    },
    {
      "cell_type": "code",
      "execution_count": null,
      "id": "c13fdf3f-c576-40c9-8917-983c5b4fb4a1",
      "metadata": {
        "id": "c13fdf3f-c576-40c9-8917-983c5b4fb4a1"
      },
      "outputs": [],
      "source": [
        "# APPLY a lambda function to the transactionTaxYear column:\n",
        "## IF a list is greater than 1 (customer has multiple years of sales), label as 'non_churned'\n",
        "## ELSE label 'churned'\n",
        "labels = grouped_df[\"salesDate\"].apply(\n",
        "    lambda x: \"non_churned\" if len(x) > 1 else \"churned\"\n",
        ")\n",
        "# Convert this to a DataFrame (we can actually do this by reseting the index)\n",
        "labels_df = labels.reset_index()"
      ]
    },
    {
      "cell_type": "markdown",
      "id": "4968ec2c-b7ba-4170-a787-f80970a946b5",
      "metadata": {
        "id": "4968ec2c-b7ba-4170-a787-f80970a946b5"
      },
      "source": [
        "## 3) Extract Month.\n",
        "turns out, when in the tax year the Pro signs up indicates his or her success, which is tied to their propensity to churn. Extract the month from the purchase date."
      ]
    },
    {
      "cell_type": "code",
      "execution_count": null,
      "id": "0543866c-b82b-48f6-8dbd-09c95995e57d",
      "metadata": {
        "id": "0543866c-b82b-48f6-8dbd-09c95995e57d"
      },
      "outputs": [],
      "source": [
        "# Group the DataFrame by accountID and aggregate by the MINimum salesDate\n",
        "min_sale_df = sales_date_df.groupby([\"accountID\"]).agg({\"salesDate\": \"min\"})\n",
        "# extract the month from the min_sale_df salesDate column\n",
        "initialSaleMonth = min_sale_df[\"salesDate\"].dt.month"
      ]
    },
    {
      "cell_type": "code",
      "execution_count": null,
      "id": "b243aca3-4b10-4da1-82dd-68467c779c69",
      "metadata": {
        "id": "b243aca3-4b10-4da1-82dd-68467c779c69"
      },
      "outputs": [],
      "source": [
        "account_sales_history_df = labels_df.rename(columns={\"salesDate\": \"label\"}).merge(\n",
        "    initialSaleMonth.reset_index().rename(columns={\"salesDate\": \"saleMonth\"}),\n",
        "    on=\"accountID\",\n",
        ")"
      ]
    },
    {
      "cell_type": "markdown",
      "id": "27034021-cd26-41a3-bda8-d15d3f57df55",
      "metadata": {
        "id": "27034021-cd26-41a3-bda8-d15d3f57df55"
      },
      "source": [
        "## 4) Merge\n",
        "Sales history is tracked using an accountID. However, all other attributes about the customer are tracked using a CompanyID.\n",
        "<br>\n",
        "Pull data fom our AccountID_CompanyID table.\n",
        "<br>\n",
        "Merge a customer's sales history with the customer's CompanyID."
      ]
    },
    {
      "cell_type": "code",
      "execution_count": null,
      "id": "97212e39-c3d0-44d5-b232-fbffbe83c539",
      "metadata": {
        "id": "97212e39-c3d0-44d5-b232-fbffbe83c539"
      },
      "outputs": [],
      "source": [
        "# Pull data from our AccountID_CompanyID Table\n",
        "account_company_ID_link_df = pd.read_csv(\"Account_Company_ID_Linking_Table.csv\")\n",
        "# Merge a customer's Sales History with the customer's CompanyID\n",
        "customer_sales_history_df = account_company_ID_link_df.merge(\n",
        "    account_sales_history_df, on=\"accountID\"\n",
        ")"
      ]
    },
    {
      "cell_type": "markdown",
      "id": "bd6d15e3-283f-4d60-92ac-c3c74169d122",
      "metadata": {
        "id": "bd6d15e3-283f-4d60-92ac-c3c74169d122"
      },
      "source": [
        "## 5) Merge Again:)\n",
        "Now that we have the companyID, we can connect the rest of our data.\n",
        "<br>\n",
        "Merge a customer's sales history with the customer's CompanyID."
      ]
    },
    {
      "cell_type": "code",
      "execution_count": null,
      "id": "59460e0f-333c-4069-9ab4-64c1f9274f3a",
      "metadata": {
        "id": "59460e0f-333c-4069-9ab4-64c1f9274f3a"
      },
      "outputs": [],
      "source": [
        "# Pull data from our Company Data Table\n",
        "company_data = pd.read_csv(\"CompanyID_Data.csv\")\n",
        "# Merge\n",
        "company_data_df = customer_sales_history_df.merge(\n",
        "    company_data, on=\"companyID\"\n",
        ").drop_duplicates(subset=[\"accountID\"])"
      ]
    },
    {
      "cell_type": "markdown",
      "id": "68a09f4d-867b-45d9-841a-05a5b48a10e5",
      "metadata": {
        "id": "68a09f4d-867b-45d9-841a-05a5b48a10e5"
      },
      "source": [
        "## 6) Binarize\n",
        "It's difficult for Machine Learning algorithms to process string data in the productType column in its current state. Let's apply the MultiLabelBinarizer object to expand this string to a series of 0s and 1s, indicating whether the customer has purchased the product or not.<br>\n",
        "https://scikit-learn.org/stable/modules/generated/sklearn.preprocessing.MultiLabelBinarizer.html"
      ]
    },
    {
      "cell_type": "code",
      "execution_count": null,
      "id": "6b03956a-b631-4639-b8cc-3f19e22d3116",
      "metadata": {
        "id": "6b03956a-b631-4639-b8cc-3f19e22d3116"
      },
      "outputs": [],
      "source": [
        "product_type = company_data_df[\"productType\"].apply(lambda x: x.split(\",\"))"
      ]
    },
    {
      "cell_type": "code",
      "execution_count": null,
      "id": "16b35aff-396e-4799-8f0c-1b6cb40fa810",
      "metadata": {
        "id": "16b35aff-396e-4799-8f0c-1b6cb40fa810"
      },
      "outputs": [],
      "source": [
        "# Import the MultiLabelBinarizer object from the sklean.preprocessing library\n",
        "from sklearn.preprocessing import MultiLabelBinarizer\n",
        "\n",
        "# Create a MultiLabelBinarizer object\n",
        "mlb = MultiLabelBinarizer()\n",
        "# Apply the fit_transform method to the product type object\n",
        "numpy_array = mlb.fit_transform(product_type)\n",
        "# Transform to a DataFrame\n",
        "dataframe = pd.DataFrame(numpy_array)\n",
        "# Extract the columns from the mlb.classes object\n",
        "cols = list(mlb.classes_)\n",
        "# assign the cols to the dataframe columns\n",
        "dataframe.columns = cols"
      ]
    },
    {
      "cell_type": "markdown",
      "id": "743e69a1-0290-4d18-9e81-22d7a6687a45",
      "metadata": {
        "id": "743e69a1-0290-4d18-9e81-22d7a6687a45"
      },
      "source": [
        "## 7) Bin\n",
        "It's sometimes easier for Machine Learning algorithms to find patterns in the data when data is binned. This essentially transforms a continuous variable to a categorical variable.<br>\n",
        "Here, we use pandas qcut() function to bin the **customerSpend** column. The qcut() function divides a set of values into bins according to the sample quantiles. With this function, values are divided into bins of equal sizes, which means that each bin has an equal number of samples. The q argument specifies the number of bins we might want to use."
      ]
    },
    {
      "cell_type": "code",
      "execution_count": null,
      "id": "9440b7a4-98b9-4c59-b074-3baf25a39e5d",
      "metadata": {
        "id": "9440b7a4-98b9-4c59-b074-3baf25a39e5d",
        "outputId": "f717bd00-11af-484d-eacc-f59766305531"
      },
      "outputs": [
        {
          "data": {
            "text/plain": [
              "<Axes: >"
            ]
          },
          "execution_count": 35,
          "metadata": {},
          "output_type": "execute_result"
        },
        {
          "data": {
            "image/png": "[encoded data removed]",
            "text/plain": [
              "<Figure size 640x480 with 1 Axes>"
            ]
          },
          "metadata": {},
          "output_type": "display_data"
        }
      ],
      "source": [
        "##HINT: It could be helpful to start with a boxplot to understand the spread. The showfliers argument removes outliers.\n",
        "##Remove it to see the outliers.\n",
        "company_data_df[\"customerSpend\"].plot(kind=\"box\", showfliers=False)"
      ]
    },
    {
      "cell_type": "code",
      "execution_count": null,
      "id": "560f4adc-63c6-47f4-8bb6-5a28a21dfae7",
      "metadata": {
        "id": "560f4adc-63c6-47f4-8bb6-5a28a21dfae7"
      },
      "outputs": [],
      "source": [
        "# To make this more readable, we can add labels using the labels argument\n",
        "customerSpend_bins = pd.qcut(company_data_df[\"customerSpend\"], q=10)"
      ]
    },
    {
      "cell_type": "markdown",
      "id": "305e5420-4660-4fd4-aa5a-c3bf7d70c23b",
      "metadata": {
        "id": "305e5420-4660-4fd4-aa5a-c3bf7d70c23b"
      },
      "source": [
        "## 8) Count\n",
        "Another useful tool that counts the number of values within a particular column or Series in a DataFrame."
      ]
    },
    {
      "cell_type": "code",
      "execution_count": null,
      "id": "4b015ba7-eebc-407a-bf53-e99423b194a8",
      "metadata": {
        "id": "4b015ba7-eebc-407a-bf53-e99423b194a8",
        "outputId": "469deda6-e81c-4bef-f918-4244dea45fd0"
      },
      "outputs": [
        {
          "data": {
            "text/plain": [
              "1.0      4444\n",
              "2.0       431\n",
              "3.0       184\n",
              "4.0        90\n",
              "5.0        60\n",
              "6.0        33\n",
              "7.0        25\n",
              "8.0        22\n",
              "11.0       11\n",
              "10.0        8\n",
              "9.0         7\n",
              "12.0        6\n",
              "14.0        5\n",
              "13.0        5\n",
              "16.0        5\n",
              "20.0        4\n",
              "18.0        2\n",
              "89.0        1\n",
              "33.0        1\n",
              "38.0        1\n",
              "29.0        1\n",
              "95.0        1\n",
              "23.0        1\n",
              "15.0        1\n",
              "47.0        1\n",
              "17.0        1\n",
              "35.0        1\n",
              "45.0        1\n",
              "197.0       1\n",
              "Name: firmSize, dtype: int64"
            ]
          },
          "execution_count": 37,
          "metadata": {},
          "output_type": "execute_result"
        }
      ],
      "source": [
        "company_data_df[\n",
        "    \"firmSize\"\n",
        "].value_counts()  # you can add the normalize=True argument to get the % makeup for each value, e.g. what percentage of the dataset is composed of firmSize=1?"
      ]
    },
    {
      "cell_type": "markdown",
      "id": "ff4cce63-4d4e-46c4-9580-8ad401defe1e",
      "metadata": {
        "id": "ff4cce63-4d4e-46c4-9580-8ad401defe1e"
      },
      "source": [
        "## 9) Check\n",
        "Finally, checking null values is so important! Here are a few functions that I find useful:)"
      ]
    },
    {
      "cell_type": "code",
      "execution_count": null,
      "id": "95c9c544-84e3-4f92-95ba-b2d845bf9484",
      "metadata": {
        "id": "95c9c544-84e3-4f92-95ba-b2d845bf9484",
        "outputId": "73e30460-7081-4b19-c3cd-489e3d04a97a"
      },
      "outputs": [
        {
          "data": {
            "text/plain": [
              "4552"
            ]
          },
          "execution_count": 38,
          "metadata": {},
          "output_type": "execute_result"
        }
      ],
      "source": [
        "company_data_df[\"clientBase\"].isna().sum()"
      ]
    },
    {
      "cell_type": "code",
      "source": [
        "round(4552 / 5354 * 100, 2) # our clientBase column consists of 85% null values"
      ],
      "metadata": {
        "colab": {
          "base_uri": "https://localhost:8080/"
        },
        "id": "ljwfblf4ySFx",
        "outputId": "62a0b09d-2313-4f1b-e522-b7c04e336223"
      },
      "id": "ljwfblf4ySFx",
      "execution_count": null,
      "outputs": [
        {
          "output_type": "execute_result",
          "data": {
            "text/plain": [
              "85.02"
            ]
          },
          "metadata": {},
          "execution_count": 3
        }
      ]
    },
    {
      "cell_type": "code",
      "execution_count": null,
      "id": "f8ffd6ae-cbf7-4334-aaea-176451cf08d2",
      "metadata": {
        "id": "f8ffd6ae-cbf7-4334-aaea-176451cf08d2",
        "outputId": "0b92ce5b-5885-467a-8764-5d585909a31e"
      },
      "outputs": [
        {
          "name": "stdout",
          "output_type": "stream",
          "text": [
            "<class 'pandas.core.frame.DataFrame'>\n",
            "Int64Index: 5354 entries, 0 to 5897\n",
            "Data columns (total 8 columns):\n",
            " #   Column         Non-Null Count  Dtype  \n",
            "---  ------         --------------  -----  \n",
            " 0   accountID      5354 non-null   int64  \n",
            " 1   companyID      5353 non-null   float64\n",
            " 2   label          5354 non-null   object \n",
            " 3   saleMonth      5354 non-null   int64  \n",
            " 4   productType    5354 non-null   object \n",
            " 5   customerSpend  5354 non-null   float64\n",
            " 6   firmSize       5354 non-null   float64\n",
            " 7   clientBase     802 non-null    float64\n",
            "dtypes: float64(4), int64(2), object(2)\n",
            "memory usage: 376.5+ KB\n"
          ]
        }
      ],
      "source": [
        "company_data_df.info()"
      ]
    },
    {
      "cell_type": "markdown",
      "id": "cc1b737d-343c-4140-96ff-e43b9a93045f",
      "metadata": {
        "id": "cc1b737d-343c-4140-96ff-e43b9a93045f"
      },
      "source": [
        "## 9) Putting it all together\n",
        "Let's combine our cleaned data!"
      ]
    },
    {
      "cell_type": "code",
      "execution_count": null,
      "id": "7f766876-ffc0-46fc-a88f-b1b4d743be5b",
      "metadata": {
        "id": "7f766876-ffc0-46fc-a88f-b1b4d743be5b"
      },
      "outputs": [],
      "source": [
        "# Drop the 'productType', 'customerSpend' & 'clientBase' columns\n",
        "company_data_df.drop(\n",
        "    [\"productType\", \"customerSpend\", \"clientBase\"], axis=1, inplace=True\n",
        ")"
      ]
    },
    {
      "cell_type": "code",
      "execution_count": null,
      "id": "030d29be-e139-437d-ab6e-c311261c940f",
      "metadata": {
        "id": "030d29be-e139-437d-ab6e-c311261c940f",
        "outputId": "57c61175-9e6a-4642-c765-42da0542ec4d"
      },
      "outputs": [
        {
          "data": {
            "text/html": [
              "<div>\n",
              "<style scoped>\n",
              "    .dataframe tbody tr th:only-of-type {\n",
              "        vertical-align: middle;\n",
              "    }\n",
              "\n",
              "    .dataframe tbody tr th {\n",
              "        vertical-align: top;\n",
              "    }\n",
              "\n",
              "    .dataframe thead th {\n",
              "        text-align: right;\n",
              "    }\n",
              "</style>\n",
              "<table border=\"1\" class=\"dataframe\">\n",
              "  <thead>\n",
              "    <tr style=\"text-align: right;\">\n",
              "      <th></th>\n",
              "      <th>accountID</th>\n",
              "      <th>companyID</th>\n",
              "      <th>label</th>\n",
              "      <th>saleMonth</th>\n",
              "      <th>firmSize</th>\n",
              "      <th>customerSpend</th>\n",
              "      <th>Efile</th>\n",
              "      <th>Enterprise</th>\n",
              "      <th>Evaluation</th>\n",
              "      <th>Federal</th>\n",
              "      <th>First State</th>\n",
              "      <th>Portal</th>\n",
              "      <th>Pre-paid E-file</th>\n",
              "      <th>Prior Year</th>\n",
              "      <th>UnlimitedEfile</th>\n",
              "      <th>Upgrade</th>\n",
              "      <th>All States</th>\n",
              "      <th>Efile</th>\n",
              "      <th>Evaluation</th>\n",
              "      <th>Federal</th>\n",
              "    </tr>\n",
              "  </thead>\n",
              "  <tbody>\n",
              "    <tr>\n",
              "      <th>0</th>\n",
              "      <td>44451402</td>\n",
              "      <td>84097.0</td>\n",
              "      <td>churned</td>\n",
              "      <td>4</td>\n",
              "      <td>1.0</td>\n",
              "      <td>(1661.4, 2687.0]</td>\n",
              "      <td>0</td>\n",
              "      <td>0</td>\n",
              "      <td>0</td>\n",
              "      <td>0</td>\n",
              "      <td>0</td>\n",
              "      <td>0</td>\n",
              "      <td>0</td>\n",
              "      <td>0</td>\n",
              "      <td>0</td>\n",
              "      <td>0</td>\n",
              "      <td>0</td>\n",
              "      <td>0</td>\n",
              "      <td>0</td>\n",
              "      <td>1</td>\n",
              "    </tr>\n",
              "    <tr>\n",
              "      <th>1</th>\n",
              "      <td>30492817</td>\n",
              "      <td>90491.0</td>\n",
              "      <td>churned</td>\n",
              "      <td>4</td>\n",
              "      <td>1.0</td>\n",
              "      <td>(128.999, 258.0]</td>\n",
              "      <td>0</td>\n",
              "      <td>0</td>\n",
              "      <td>0</td>\n",
              "      <td>0</td>\n",
              "      <td>0</td>\n",
              "      <td>0</td>\n",
              "      <td>0</td>\n",
              "      <td>0</td>\n",
              "      <td>0</td>\n",
              "      <td>0</td>\n",
              "      <td>0</td>\n",
              "      <td>0</td>\n",
              "      <td>0</td>\n",
              "      <td>1</td>\n",
              "    </tr>\n",
              "    <tr>\n",
              "      <th>2</th>\n",
              "      <td>16691344</td>\n",
              "      <td>99904.0</td>\n",
              "      <td>churned</td>\n",
              "      <td>4</td>\n",
              "      <td>1.0</td>\n",
              "      <td>(258.0, 328.0]</td>\n",
              "      <td>0</td>\n",
              "      <td>0</td>\n",
              "      <td>0</td>\n",
              "      <td>0</td>\n",
              "      <td>1</td>\n",
              "      <td>0</td>\n",
              "      <td>0</td>\n",
              "      <td>0</td>\n",
              "      <td>0</td>\n",
              "      <td>0</td>\n",
              "      <td>0</td>\n",
              "      <td>0</td>\n",
              "      <td>0</td>\n",
              "      <td>1</td>\n",
              "    </tr>\n",
              "    <tr>\n",
              "      <th>3</th>\n",
              "      <td>19433773</td>\n",
              "      <td>90064.0</td>\n",
              "      <td>churned</td>\n",
              "      <td>4</td>\n",
              "      <td>1.0</td>\n",
              "      <td>(778.0, 1098.0]</td>\n",
              "      <td>0</td>\n",
              "      <td>1</td>\n",
              "      <td>0</td>\n",
              "      <td>0</td>\n",
              "      <td>1</td>\n",
              "      <td>0</td>\n",
              "      <td>0</td>\n",
              "      <td>0</td>\n",
              "      <td>0</td>\n",
              "      <td>0</td>\n",
              "      <td>0</td>\n",
              "      <td>0</td>\n",
              "      <td>0</td>\n",
              "      <td>1</td>\n",
              "    </tr>\n",
              "    <tr>\n",
              "      <th>4</th>\n",
              "      <td>25169734</td>\n",
              "      <td>1144.0</td>\n",
              "      <td>churned</td>\n",
              "      <td>4</td>\n",
              "      <td>1.0</td>\n",
              "      <td>(128.999, 258.0]</td>\n",
              "      <td>0</td>\n",
              "      <td>0</td>\n",
              "      <td>0</td>\n",
              "      <td>0</td>\n",
              "      <td>0</td>\n",
              "      <td>0</td>\n",
              "      <td>0</td>\n",
              "      <td>0</td>\n",
              "      <td>0</td>\n",
              "      <td>0</td>\n",
              "      <td>0</td>\n",
              "      <td>0</td>\n",
              "      <td>0</td>\n",
              "      <td>1</td>\n",
              "    </tr>\n",
              "    <tr>\n",
              "      <th>...</th>\n",
              "      <td>...</td>\n",
              "      <td>...</td>\n",
              "      <td>...</td>\n",
              "      <td>...</td>\n",
              "      <td>...</td>\n",
              "      <td>...</td>\n",
              "      <td>...</td>\n",
              "      <td>...</td>\n",
              "      <td>...</td>\n",
              "      <td>...</td>\n",
              "      <td>...</td>\n",
              "      <td>...</td>\n",
              "      <td>...</td>\n",
              "      <td>...</td>\n",
              "      <td>...</td>\n",
              "      <td>...</td>\n",
              "      <td>...</td>\n",
              "      <td>...</td>\n",
              "      <td>...</td>\n",
              "      <td>...</td>\n",
              "    </tr>\n",
              "    <tr>\n",
              "      <th>5349</th>\n",
              "      <td>81970529</td>\n",
              "      <td>20955.0</td>\n",
              "      <td>non_churned</td>\n",
              "      <td>5</td>\n",
              "      <td>1.0</td>\n",
              "      <td>(128.999, 258.0]</td>\n",
              "      <td>0</td>\n",
              "      <td>0</td>\n",
              "      <td>0</td>\n",
              "      <td>0</td>\n",
              "      <td>0</td>\n",
              "      <td>0</td>\n",
              "      <td>0</td>\n",
              "      <td>0</td>\n",
              "      <td>0</td>\n",
              "      <td>0</td>\n",
              "      <td>0</td>\n",
              "      <td>0</td>\n",
              "      <td>0</td>\n",
              "      <td>1</td>\n",
              "    </tr>\n",
              "    <tr>\n",
              "      <th>5350</th>\n",
              "      <td>4895379</td>\n",
              "      <td>5830.0</td>\n",
              "      <td>non_churned</td>\n",
              "      <td>6</td>\n",
              "      <td>1.0</td>\n",
              "      <td>(128.999, 258.0]</td>\n",
              "      <td>0</td>\n",
              "      <td>0</td>\n",
              "      <td>0</td>\n",
              "      <td>0</td>\n",
              "      <td>0</td>\n",
              "      <td>0</td>\n",
              "      <td>0</td>\n",
              "      <td>0</td>\n",
              "      <td>0</td>\n",
              "      <td>0</td>\n",
              "      <td>0</td>\n",
              "      <td>0</td>\n",
              "      <td>0</td>\n",
              "      <td>1</td>\n",
              "    </tr>\n",
              "    <tr>\n",
              "      <th>5351</th>\n",
              "      <td>52265030</td>\n",
              "      <td>3546.0</td>\n",
              "      <td>non_churned</td>\n",
              "      <td>5</td>\n",
              "      <td>1.0</td>\n",
              "      <td>(128.999, 258.0]</td>\n",
              "      <td>0</td>\n",
              "      <td>0</td>\n",
              "      <td>0</td>\n",
              "      <td>0</td>\n",
              "      <td>0</td>\n",
              "      <td>0</td>\n",
              "      <td>0</td>\n",
              "      <td>0</td>\n",
              "      <td>0</td>\n",
              "      <td>0</td>\n",
              "      <td>0</td>\n",
              "      <td>0</td>\n",
              "      <td>0</td>\n",
              "      <td>1</td>\n",
              "    </tr>\n",
              "    <tr>\n",
              "      <th>5352</th>\n",
              "      <td>5851527</td>\n",
              "      <td>70503.0</td>\n",
              "      <td>non_churned</td>\n",
              "      <td>5</td>\n",
              "      <td>4.0</td>\n",
              "      <td>(128.999, 258.0]</td>\n",
              "      <td>0</td>\n",
              "      <td>0</td>\n",
              "      <td>0</td>\n",
              "      <td>0</td>\n",
              "      <td>0</td>\n",
              "      <td>0</td>\n",
              "      <td>0</td>\n",
              "      <td>0</td>\n",
              "      <td>0</td>\n",
              "      <td>0</td>\n",
              "      <td>0</td>\n",
              "      <td>0</td>\n",
              "      <td>0</td>\n",
              "      <td>1</td>\n",
              "    </tr>\n",
              "    <tr>\n",
              "      <th>5353</th>\n",
              "      <td>5053078</td>\n",
              "      <td>NaN</td>\n",
              "      <td>non_churned</td>\n",
              "      <td>7</td>\n",
              "      <td>1.0</td>\n",
              "      <td>(128.999, 258.0]</td>\n",
              "      <td>0</td>\n",
              "      <td>0</td>\n",
              "      <td>0</td>\n",
              "      <td>0</td>\n",
              "      <td>0</td>\n",
              "      <td>0</td>\n",
              "      <td>0</td>\n",
              "      <td>0</td>\n",
              "      <td>0</td>\n",
              "      <td>0</td>\n",
              "      <td>0</td>\n",
              "      <td>0</td>\n",
              "      <td>0</td>\n",
              "      <td>1</td>\n",
              "    </tr>\n",
              "  </tbody>\n",
              "</table>\n",
              "<p>5354 rows × 20 columns</p>\n",
              "</div>"
            ],
            "text/plain": [
              "      accountID  companyID        label  saleMonth  firmSize  \\\n",
              "0      44451402    84097.0      churned          4       1.0   \n",
              "1      30492817    90491.0      churned          4       1.0   \n",
              "2      16691344    99904.0      churned          4       1.0   \n",
              "3      19433773    90064.0      churned          4       1.0   \n",
              "4      25169734     1144.0      churned          4       1.0   \n",
              "...         ...        ...          ...        ...       ...   \n",
              "5349   81970529    20955.0  non_churned          5       1.0   \n",
              "5350    4895379     5830.0  non_churned          6       1.0   \n",
              "5351   52265030     3546.0  non_churned          5       1.0   \n",
              "5352    5851527    70503.0  non_churned          5       4.0   \n",
              "5353    5053078        NaN  non_churned          7       1.0   \n",
              "\n",
              "         customerSpend   Efile   Enterprise   Evaluation   Federal  \\\n",
              "0     (1661.4, 2687.0]       0            0            0         0   \n",
              "1     (128.999, 258.0]       0            0            0         0   \n",
              "2       (258.0, 328.0]       0            0            0         0   \n",
              "3      (778.0, 1098.0]       0            1            0         0   \n",
              "4     (128.999, 258.0]       0            0            0         0   \n",
              "...                ...     ...          ...          ...       ...   \n",
              "5349  (128.999, 258.0]       0            0            0         0   \n",
              "5350  (128.999, 258.0]       0            0            0         0   \n",
              "5351  (128.999, 258.0]       0            0            0         0   \n",
              "5352  (128.999, 258.0]       0            0            0         0   \n",
              "5353  (128.999, 258.0]       0            0            0         0   \n",
              "\n",
              "       First State   Portal   Pre-paid E-file   Prior Year   UnlimitedEfile  \\\n",
              "0                0        0                 0            0                0   \n",
              "1                0        0                 0            0                0   \n",
              "2                1        0                 0            0                0   \n",
              "3                1        0                 0            0                0   \n",
              "4                0        0                 0            0                0   \n",
              "...            ...      ...               ...          ...              ...   \n",
              "5349             0        0                 0            0                0   \n",
              "5350             0        0                 0            0                0   \n",
              "5351             0        0                 0            0                0   \n",
              "5352             0        0                 0            0                0   \n",
              "5353             0        0                 0            0                0   \n",
              "\n",
              "       Upgrade  All States  Efile  Evaluation  Federal  \n",
              "0            0           0      0           0        1  \n",
              "1            0           0      0           0        1  \n",
              "2            0           0      0           0        1  \n",
              "3            0           0      0           0        1  \n",
              "4            0           0      0           0        1  \n",
              "...        ...         ...    ...         ...      ...  \n",
              "5349         0           0      0           0        1  \n",
              "5350         0           0      0           0        1  \n",
              "5351         0           0      0           0        1  \n",
              "5352         0           0      0           0        1  \n",
              "5353         0           0      0           0        1  \n",
              "\n",
              "[5354 rows x 20 columns]"
            ]
          },
          "execution_count": 43,
          "metadata": {},
          "output_type": "execute_result"
        }
      ],
      "source": [
        "# Replace 'productType' with the binarized dataframe & 'customerSpend' with customerSpend_bins\n",
        "pd.concat(\n",
        "    [\n",
        "        company_data_df.reset_index(drop=True),\n",
        "        customerSpend_bins.reset_index(drop=True),\n",
        "        dataframe.reset_index(drop=True),\n",
        "    ],\n",
        "    axis=1,\n",
        ").drop_duplicates()"
      ]
    }
  ],
  "metadata": {
    "kernelspec": {
      "display_name": "Python 3 (ipykernel)",
      "language": "python",
      "name": "python3"
    },
    "language_info": {
      "codemirror_mode": {
        "name": "ipython",
        "version": 3
      },
      "file_extension": ".py",
      "mimetype": "text/x-python",
      "name": "python",
      "nbconvert_exporter": "python",
      "pygments_lexer": "ipython3",
      "version": "3.10.10"
    },
    "colab": {
      "provenance": [],
      "toc_visible": true,
      "include_colab_link": true
    }
  },
  "nbformat": 4,
  "nbformat_minor": 5
}